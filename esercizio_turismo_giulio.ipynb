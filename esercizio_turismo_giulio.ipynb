{
  "nbformat": 4,
  "nbformat_minor": 0,
  "metadata": {
    "colab": {
      "provenance": [],
      "mount_file_id": "1qKu2RHs9LsT9qk41X7xfwJa_pSmXzQrU",
      "authorship_tag": "ABX9TyMvkd5jE1xKUS5oKSrtvKWu",
      "include_colab_link": true
    },
    "kernelspec": {
      "name": "python3",
      "display_name": "Python 3"
    },
    "language_info": {
      "name": "python"
    }
  },
  "cells": [
    {
      "cell_type": "markdown",
      "metadata": {
        "id": "view-in-github",
        "colab_type": "text"
      },
      "source": [
        "<a href=\"https://colab.research.google.com/github/geeuleeo/esercizio_Turismo/blob/main/esercizio_turismo_giulio.ipynb\" target=\"_parent\"><img src=\"https://colab.research.google.com/assets/colab-badge.svg\" alt=\"Open In Colab\"/></a>"
      ]
    },
    {
      "cell_type": "code",
      "execution_count": 1,
      "metadata": {
        "colab": {
          "base_uri": "https://localhost:8080/"
        },
        "id": "sXZBHTSmqMcn",
        "outputId": "61de4688-fb16-491c-f19e-39c6a5451241"
      },
      "outputs": [
        {
          "output_type": "stream",
          "name": "stdout",
          "text": [
            "Mounted at /content/drive\n"
          ]
        }
      ],
      "source": [
        "from google.colab import drive\n",
        "drive.mount('/content/drive')"
      ]
    },
    {
      "cell_type": "code",
      "source": [
        "import pandas as pd\n",
        "import numpy as np\n",
        "import matplotlib.pyplot as plt\n"
      ],
      "metadata": {
        "id": "Qlh5Sp5zra5l"
      },
      "execution_count": 3,
      "outputs": []
    },
    {
      "cell_type": "code",
      "source": [
        "df_arrivi_agri = pd.read_csv(\"Arrivi-negli-agriturismi-in-Italia-per-regione.csv\")\n",
        "df_arrivi_tot = pd.read_csv(\"/content/Arrivi-negli-esercizi-alberghieri-in-Italia-per-regione.csv\")\n",
        "df_arrivi_camp = pd.read_csv(\"/content/Arrivi-nei-campeggi-e-villaggi-turistici-in-italia-per-regione.csv\")\n",
        "\n",
        "df_presenze_agri = pd.read_csv(\"/content/Presenze-negli-agriturismi-in-Italia-per-regione.csv\")\n",
        "df_presenze_tot = pd.read_csv(\"/content/Presenze-negli-esercizi-alberghieri-in-Italia-per-regione.csv\")\n",
        "df_presenze_camp = pd.read_csv(\"/content/Presenze-nei-campeggi-e-villaggi-turistici-in-italia-per-regione.csv\")\n"
      ],
      "metadata": {
        "id": "Ur-CKFj-qr4E"
      },
      "execution_count": 4,
      "outputs": []
    }
  ]
}